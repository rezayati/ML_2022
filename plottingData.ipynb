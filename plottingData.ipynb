{
  "nbformat": 4,
  "nbformat_minor": 0,
  "metadata": {
    "colab": {
      "name": "plottingData.ipynb",
      "provenance": [],
      "authorship_tag": "ABX9TyMYFpILyCZW2Y32OvLDPWYa",
      "include_colab_link": true
    },
    "kernelspec": {
      "name": "python3",
      "display_name": "Python 3"
    },
    "accelerator": "GPU"
  },
  "cells": [
    {
      "cell_type": "markdown",
      "metadata": {
        "id": "view-in-github",
        "colab_type": "text"
      },
      "source": [
        "<a href=\"https://colab.research.google.com/github/rezayati/ML_2022/blob/main/plottingData.ipynb\" target=\"_parent\"><img src=\"https://colab.research.google.com/assets/colab-badge.svg\" alt=\"Open In Colab\"/></a>"
      ]
    },
    {
      "cell_type": "markdown",
      "source": [
        ""
      ],
      "metadata": {
        "id": "pbG_2sDKTUlM"
      }
    },
    {
      "cell_type": "code",
      "source": [
        "from pandas.core.reshape.concat import concat\n",
        "DataPATH = '/content/sample_data/ARBCE.txt'\n",
        "#DataPATH = '/content/sample_data/ARBDARK.txt'\n",
        "\n",
        "with open(DataPATH) as f:\n",
        "    lines = f.readlines()\n",
        "    print(lines)\n",
        "\n",
        "for i in range( 1, len(lines)):\n",
        "    if lines[i] == '### Scale-Information:\\n':\n",
        "      pos_header = i+1;\n",
        "      print('pos_header = ', pos_header)\n",
        "\n",
        "    if lines[i] == '### Data:\\n': \n",
        "      pos_data = i+1;\n",
        "      print('pos_data', pos_data)\n",
        "headers = []\n",
        "for i in range(pos_header, pos_data-2):\n",
        "  headers.append(lines[i].replace(\"# Column\",\"\").replace(\"\\n\" , \"\"))\n",
        "\n",
        "print(headers)\n"
      ],
      "metadata": {
        "id": "KFN-BHQVn3i0"
      },
      "execution_count": null,
      "outputs": []
    },
    {
      "cell_type": "code",
      "metadata": {
        "id": "hPL5WtHxNL5Q"
      },
      "source": [
        "\n",
        "\n",
        "import pandas as pd\n",
        "\n",
        "df = pd.read_table(DataPATH,  skiprows = pos_data, header= None)#,names= headers, error_bad_lines=False, delim_whitespace=True) #\n",
        "df.head(100)"
      ],
      "execution_count": null,
      "outputs": []
    },
    {
      "cell_type": "code",
      "source": [
        "df.describe()"
      ],
      "metadata": {
        "id": "zQh1U0u9n0mj"
      },
      "execution_count": null,
      "outputs": []
    },
    {
      "cell_type": "code",
      "source": [
        "from matplotlib import figure\n",
        "import matplotlib.pyplot as plt\n",
        "for i in range(0,len(headers),2):\n",
        "  plt.figure(i)\n",
        "  plt.plot(df.iloc[:,i], df.iloc[:,i+1])\n",
        "  plt.xlabel(headers[i])\n",
        "  plt.ylabel(headers[i+1])\n",
        "  figName = headers[i+1] + \".svg\"\n",
        "  plt.savefig(figName, dpi=100)"
      ],
      "metadata": {
        "id": "P_e8Weg9nxT-"
      },
      "execution_count": null,
      "outputs": []
    },
    {
      "cell_type": "code",
      "metadata": {
        "id": "IKC8uLpLMyU6"
      },
      "source": [
        "from matplotlib import figure\n",
        "import matplotlib.pyplot as plt\n",
        "for i in range(0,len(headers),2):\n",
        "  plt.plot(df.iloc[:,i], df.iloc[:,i+1])\n",
        "  plt.xlabel(headers[i])\n",
        "  plt.ylabel(headers[i+1])\n",
        "  plt.show\n",
        "  plt.savefig(figName, dpi=100)\n",
        "\n"
      ],
      "execution_count": null,
      "outputs": []
    }
  ]
}