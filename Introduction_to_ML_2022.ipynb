{
  "nbformat": 4,
  "nbformat_minor": 0,
  "metadata": {
    "colab": {
      "name": "Introduction_to_ML_2022.ipynb",
      "provenance": [],
      "collapsed_sections": [],
      "authorship_tag": "ABX9TyPo8iDNlySf1LdMHYZM4Tia",
      "include_colab_link": true
    },
    "kernelspec": {
      "name": "python3",
      "display_name": "Python 3"
    },
    "language_info": {
      "name": "python"
    }
  },
  "cells": [
    {
      "cell_type": "markdown",
      "metadata": {
        "id": "view-in-github",
        "colab_type": "text"
      },
      "source": [
        "<a href=\"https://colab.research.google.com/github/rezayati/ML_2022/blob/main/Introduction_to_ML_2022.ipynb\" target=\"_parent\"><img src=\"https://colab.research.google.com/assets/colab-badge.svg\" alt=\"Open In Colab\"/></a>"
      ]
    },
    {
      "cell_type": "markdown",
      "source": [
        "# **Introduction to Machine Learning : Lab 01**\n",
        "\n",
        "This lab is designed to give you an insight into **how to make a machine learning model** for your application.\n",
        "\n",
        "As an example, you will utilize a dataset about physical human-robot collaboration. It is gathered from a robot arm, Franka Emika Panda, when it was executing a repetitive movement. Within the dataset, you will find samples for three states (classes):\n",
        "\n",
        "1.   When the robot performs its task without external interaction **(target label: Noncontact)**\n",
        "2.   When the robot collides with a human arm or human hand **(target labels: Collision_Link5, Collision_Link6)**\n",
        "3. When a human touches the robot intently for a direct collaboration.**(target labels: Intentional_Link5, Intentional_Link6)**\n",
        "\n",
        "\n",
        "The input vector represents a time series of robot data as \n",
        "\\begin{equation}\n",
        "    x=\\begin{bmatrix}\n",
        "    \\tau_J^0 & \\tau_{ext}^0 & e^0 & \\dot{e}^0\\\\\n",
        "    \\tau_J^1 & \\tau_{ext}^1 & e^1 & \\dot{e}^1\\\\\n",
        "    \\vdots &\\dotsi &\\dotsi & \\dotsi \\\\\n",
        "    \\tau_J^{28} & \\tau_{ext}^{28} & e^{28} & \\dot{e}^{28}\\\\\n",
        "    \\end{bmatrix}\n",
        "\\end{equation}\n",
        "\n",
        "\\begin{equation}\n",
        "    \\tau_J^i=^i\\begin{bmatrix}\n",
        "    \\tau_{J_1}^i &\\tau_{J_2}^i&\\tau_{J_3}^i&\\tau_{J_4}^i &\\tau_{J_5}^i&\\tau_{J_6}^i&\\tau_{J_7}^i \n",
        "    \\end{bmatrix}\n",
        "\\end{equation}\n",
        "\n",
        "\\begin{equation}\n",
        "    \\tau_{ext}^i=\\begin{bmatrix}\n",
        "    \\tau_{ext_1}^i&\\tau_{ext_2}^i&\\dotsi&\\tau_{ext_6}^i &\\tau_{ext_7}^i\n",
        "    \\end{bmatrix}\n",
        "\\end{equation}\n",
        "\n",
        "\\begin{equation}\n",
        "    e^i=\\begin{bmatrix}\n",
        "    e_1^i & e_2^i & e_3^i & e_4^i & e_5^i & e_6^i & e_7^i\n",
        "    \\end{bmatrix}\n",
        "\\end{equation}\n",
        "\n",
        "\\begin{equation}\n",
        "    \\dot{e}^i=\\begin{bmatrix}\n",
        "    \\dot{e}_1^i & \\dot{e}_2^i & \\dot{e}_3^i & \\dot{e}_4^i & \\dot{e}_5^i & \\dot{e}_6^i & \\dot{e}_7^i\n",
        "    \\end{bmatrix}\n",
        "\\end{equation}\n",
        "\n",
        "where $\\tau_J$, $\\tau_{ext}$, e, and $\\dot{e}$ indicate joint torque, external torque, joint position error, and joint velocity error, respectively. The input vector is 28×28 and indicates 140ms time frame data.\n",
        "\n"
      ],
      "metadata": {
        "id": "CvD8qJ0_DRS6"
      }
    },
    {
      "cell_type": "markdown",
      "source": [
        "# 1. Importing essential libraries\n",
        "import your libraries in this part. some examples: \n",
        "\n",
        "exp1: import numpy as np\n",
        "\n",
        "exp2: from matplotlib import pyplot as plt\n",
        "\n",
        "exp3: from sklearn.tree import DecisionTreeClassifier"
      ],
      "metadata": {
        "id": "NGZVrdiADT3C"
      }
    },
    {
      "cell_type": "code",
      "execution_count": 1,
      "metadata": {
        "id": "pmJJnxftDCnO"
      },
      "outputs": [],
      "source": [
        "import numpy as np\n",
        "#your code\n",
        "\n",
        "\n"
      ]
    },
    {
      "cell_type": "markdown",
      "source": [
        "# 2. Loading dataset\n",
        "\n",
        "you can upload the dataset into files/sample_data\n",
        "\n",
        "\n",
        "\n",
        "*   Load your dataset using pandas.read_csv\n",
        "*   the target label is Outcome\n",
        "*   split the data into training set and test set\n",
        "\n",
        "\n"
      ],
      "metadata": {
        "id": "ExL3N1XoN37P"
      }
    },
    {
      "cell_type": "code",
      "source": [
        "#your code\n",
        "\n",
        "\n",
        "#X_train, X_test, ytrain, y_test = train_test_split( your code  )"
      ],
      "metadata": {
        "id": "vD8Z0Ya5SHto"
      },
      "execution_count": null,
      "outputs": []
    },
    {
      "cell_type": "markdown",
      "source": [
        "# 3. Data Visualization\n",
        "\n",
        "plot one sample of the external torque signals ( $\\tau_{ext}$ )."
      ],
      "metadata": {
        "id": "imUmyDwfSIAO"
      }
    },
    {
      "cell_type": "code",
      "source": [
        ""
      ],
      "metadata": {
        "id": "59LfQtYVRE6O"
      },
      "execution_count": null,
      "outputs": []
    },
    {
      "cell_type": "markdown",
      "source": [
        "# 4. ML Algorithms\n",
        " Implement python functions, which gets the data and returns the trained model"
      ],
      "metadata": {
        "id": "PcDNP842TgOt"
      }
    },
    {
      "cell_type": "code",
      "source": [
        "def Decision_Tree(X_train, y_train):\n",
        "  print(\"**********       Decision Tree        *************\")\n",
        "  \n",
        "  # check if the algorithm needs preprocessing\n",
        "  #your code\n",
        "  \n",
        "  return model\n",
        "\n",
        "\n",
        "def SVM_Classifier(X_train, y_train):\n",
        "  print(\"\\n****************************  SVM    ******************\")\n",
        "\n",
        "  # check if the algorithm needs preprocessing\n",
        "  # your code---- model = svm.SVC()\n",
        "\n",
        "  return model\n",
        "\n",
        "\n",
        "def KN_Classifier(X_train, y_train):\n",
        "  print(\"\\n****************************   KNeighborsClassifier   ******************\")\n",
        "  \n",
        "  # check if the algorithm needs preprocessing\n",
        "  #your code\n",
        "\n",
        "  return model"
      ],
      "metadata": {
        "id": "DsZc3LOqT5gw"
      },
      "execution_count": null,
      "outputs": []
    },
    {
      "cell_type": "markdown",
      "source": [
        "#5. Train your model by recalling your functions"
      ],
      "metadata": {
        "id": "80DWSNPRVo-z"
      }
    },
    {
      "cell_type": "code",
      "source": [
        "DT_model = Decision_Tree(X_train, y_train)\n",
        "SVM_model = SVM_Classifier(X_train, y_train)\n",
        "KN_model = KN_Classifier(X_train, y_train)\n"
      ],
      "metadata": {
        "id": "Q1aZ3GuWWaSV"
      },
      "execution_count": null,
      "outputs": []
    },
    {
      "cell_type": "markdown",
      "source": [
        "#6. Testing the model\n",
        "Implement a python function which \n",
        "1. gets model \n",
        "2. predict the x_test data and store it ina vairable (e.g. y_pred)\n",
        "3.  using y_test (true lables) and y_pred (predicted labels by your model) shows the confusion matrices.\n",
        "\n",
        "\n",
        "AND recall this function for your models.\n",
        "\n",
        "**which algorithm has a better result?**"
      ],
      "metadata": {
        "id": "Agp_buDMWyh2"
      }
    },
    {
      "cell_type": "code",
      "source": [
        "def testing_model(model, X_test, y_test):\n",
        "  # predict the labels using model.predict\n",
        "  # calculate the confution matrices\n",
        "  # print the result\n",
        "\n",
        "print(\"**********       Decision Tree        *************\")\n",
        "# Preprocessing of the data should be done here for test set with the same appraoch which you did in the training part\n",
        "# your code\n",
        "testing_model(DT_model, X_test, y_test)\n",
        "\n",
        "print(\"\\n****************************  SVM    ******************\")\n",
        "# Preprocessing of the data should be done here for test set with the same appraoch which you did in the training part\n",
        "# your code\n",
        "testing_model(SVM_model, X_test, y_test)\n",
        "\n",
        "print(\"\\n****************************   KNeighborsClassifier   ******************\")\n",
        "# Preprocessing of the data should be done here for test set with the same appraoch which you did in the training part\n",
        "# your code\n",
        "testing_model(KN_model, X_test, y_test)\n"
      ],
      "metadata": {
        "id": "xoPi06I5YebG"
      },
      "execution_count": null,
      "outputs": []
    },
    {
      "cell_type": "markdown",
      "source": [
        "# 7. Export the best model"
      ],
      "metadata": {
        "id": "UJSrTjnwZzaA"
      }
    },
    {
      "cell_type": "code",
      "source": [
        "# your  code"
      ],
      "metadata": {
        "id": "5krDFh5wZ6uW"
      },
      "execution_count": null,
      "outputs": []
    },
    {
      "cell_type": "markdown",
      "source": [
        "# 8. Import your saved model"
      ],
      "metadata": {
        "id": "ur9m37u3Z7rg"
      }
    },
    {
      "cell_type": "code",
      "source": [
        "# your code"
      ],
      "metadata": {
        "id": "Y_XA5OhZaDJj"
      },
      "execution_count": null,
      "outputs": []
    }
  ]
}
